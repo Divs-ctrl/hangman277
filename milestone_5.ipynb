{
  "nbformat": 4,
  "nbformat_minor": 0,
  "metadata": {
    "colab": {
      "provenance": [],
      "authorship_tag": "ABX9TyPseKICQTq+v9FaR0pyXvUN",
      "include_colab_link": true
    },
    "kernelspec": {
      "name": "python3",
      "display_name": "Python 3"
    },
    "language_info": {
      "name": "python"
    }
  },
  "cells": [
    {
      "cell_type": "markdown",
      "metadata": {
        "id": "view-in-github",
        "colab_type": "text"
      },
      "source": [
        "<a href=\"https://colab.research.google.com/github/Divs-ctrl/hangman277/blob/main/milestone_5.ipynb\" target=\"_parent\"><img src=\"https://colab.research.google.com/assets/colab-badge.svg\" alt=\"Open In Colab\"/></a>"
      ]
    },
    {
      "cell_type": "code",
      "execution_count": null,
      "metadata": {
        "colab": {
          "base_uri": "https://localhost:8080/"
        },
        "id": "pa_i_P2xFOlc",
        "outputId": "cf11eb51-6b92-4ac7-fd00-4838c8451198"
      },
      "outputs": [
        {
          "output_type": "stream",
          "name": "stdout",
          "text": [
            "Guess a letter: a\n",
            "Good guess! a is in the word.\n",
            "Guess a letter: d\n",
            "Sorry, d is not in the word.\n",
            "You have 4 lives left.\n",
            "Guess a letter: v\n",
            "Sorry, v is not in the word.\n",
            "You have 3 lives left.\n"
          ]
        }
      ],
      "source": [
        "#code for 4th MS\n",
        "\n",
        "import random\n",
        "\n",
        "class Hangman:\n",
        "    def __init__(self, word_list, num_lives=5):\n",
        "      #Pass in word_list and num_lives as parameters. Make num_lives a default parameter and set the value to 5.\n",
        "\n",
        "      #word: The word to be guessed, picked randomly from the word_list.\n",
        "      self.word = random.choice(word_list)\n",
        "\n",
        "      #word_guessed: list - A list of the letters of the word, with _ for each letter not yet guessed. For example, if the word is 'apple', the word_guessed list would be ['_', '_', '_', '_', '_']. If the player guesses 'a', the list would be ['a', '_', '_', '_', '_']\n",
        "      self.word_guessed = ['_' for _ in self.word]\n",
        "\n",
        "      #num_letters: int - The number of UNIQUE letters in the word that have not been guessed yet\n",
        "      self.num_letters = len(set(self.word))\n",
        "\n",
        "      #num_lives: int - The number of lives the player has at the start of the game.\n",
        "      self.num_lives = num_lives\n",
        "\n",
        "      # word_list: list - A list of words\n",
        "      word_list = []\n",
        "\n",
        "      #list_of_guesses: list - A list of the guesses that have already been tried. Set this to an empty list initially\n",
        "      self.list_of_guesses = []\n",
        "\n",
        "    #Define a method called check_guess. Pass the guess to the method as a parameter.\n",
        "    def check_guess(self, guess):\n",
        "\n",
        "      #Convert the guessed letter to lower case\n",
        "      self.guess = guess.lower()\n",
        "\n",
        "      #Create an if statement that checks if the guess is in the word and in the body of the if statement, print a message saying \"Good guess! {guess} is in the word.\"\n",
        "      if guess in self.word:\n",
        "        print(f\"Good guess! {guess} is in the word.\")\n",
        "\n",
        "      #task 3: extend it to replace the underscore(s) in the word_guessed with the letter guessed by the user.\n",
        "        for i in range(len(self.word)):\n",
        "          if self.word[i] == guess:\n",
        "            self.word_guessed[i] = guess\n",
        "\n",
        "        self.num_letters -= 1\n",
        "        # Task3: Reduce `num_lives' by 1. Print a message saying \"Sorry, {letter} is not in the word.\". Print another message saying \"You have {num_lives} lives left.\n",
        "\n",
        "      else :\n",
        "            self.num_lives -= 1\n",
        "            print(f\"Sorry, {guess} is not in the word.\")\n",
        "            print(f\"You have {self.num_lives} lives left.\")\n",
        "\n",
        "\n",
        "    #Define a method called ask_for_input\n",
        "    def ask_for_input(self):\n",
        "\n",
        "      #Create a while loop and set the condition to True\n",
        "      while True:\n",
        "          #Ask the user to guess a letter and assign this to a variable called guess\n",
        "          guess = input(\"Guess a letter: \")\n",
        "          #Create an if statement that runs if the guess is NOT a single alphabetical character. In the body of the if statement, print a message saying \"Invalid letter. Please, enter a single alphabetical character.\"\n",
        "\n",
        "          if not guess.isalpha() or len(guess) != 1:\n",
        "                print(\"Invalid letter. Please, enter a single alphabetical character.\")\n",
        "\n",
        "          #Create an elif statement that checks if the guess is already in the list_of_guesses. In the body of the elif statement, print a message saying \"You already tried that letter!\"\n",
        "          elif guess in self.list_of_guesses:\n",
        "                print(\"You already tried that letter!\")\n",
        "\n",
        "         #If the guess is a single alphabetical character and it's not already in the list_of_guesses, create an else block and call the check_guess method. Remember to pass the guess as an argument to this method.\n",
        "          else:\n",
        "                self.check_guess(guess)\n",
        "                self.list_of_guesses.append(guess)\n",
        "\n",
        "        #Finally, append the guess to the list_of_guesses.\n",
        "\n",
        "#Create a function called play_game that takes word_list as a parameter\n",
        "def   play_game(word_list):\n",
        "\n",
        "      #Create a variable called num_lives and assign it to 5\n",
        "    num_lives = 5\n",
        "\n",
        "      #Create an instance of the Hangman class. Do this by calling the Hangman class and assign it to a variable called game\n",
        "      #Pass word_list and num_lives as arguments to the game object\n",
        "    game = Hangman(word_list, num_lives)\n",
        "\n",
        "      #Create a while loop and set the condition to True. In the body of the loop, do the following:\n",
        "      #Check if the num_lives is 0. If it is, that means the game has ended and the user lost. Print a message saying 'You lost!'\n",
        "    while True :\n",
        "       if game.num_lives == 0 :\n",
        "           print(\"You lost!\")\n",
        "           break\n",
        "\n",
        "      #Next, check if the num_letters is greater than 0. In this case, you would want to continue the game, so you need to call the ask_for_input method.\n",
        "       elif game.num_letters > 0:\n",
        "           game.ask_for_input()\n",
        "\n",
        "      #If the num_lives is not 0 and the num_letters is not greater than 0, that means the user has won the game. Print a message saying 'Congratulations. You won the game!'\n",
        "       else:\n",
        "           print(\"Congratulations. You won the game!\")\n",
        "           break\n",
        "\n",
        "\n",
        "    #call your play_game function to play your game\n",
        "word_list = ['apple', 'banana', 'grape', 'cherry']\n",
        "play_game(word_list)\n",
        "\n"
      ]
    }
  ]
}