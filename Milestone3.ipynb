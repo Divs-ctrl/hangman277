{
  "nbformat": 4,
  "nbformat_minor": 0,
  "metadata": {
    "colab": {
      "provenance": [],
      "authorship_tag": "ABX9TyN+6BZtFycRAAi4SCl6I4XX",
      "include_colab_link": true
    },
    "kernelspec": {
      "name": "python3",
      "display_name": "Python 3"
    },
    "language_info": {
      "name": "python"
    }
  },
  "cells": [
    {
      "cell_type": "markdown",
      "metadata": {
        "id": "view-in-github",
        "colab_type": "text"
      },
      "source": [
        "<a href=\"https://colab.research.google.com/github/Divs-ctrl/hangman277/blob/main/Milestone3.ipynb\" target=\"_parent\"><img src=\"https://colab.research.google.com/assets/colab-badge.svg\" alt=\"Open In Colab\"/></a>"
      ]
    },
    {
      "cell_type": "code",
      "execution_count": 2,
      "metadata": {
        "colab": {
          "base_uri": "https://localhost:8080/"
        },
        "id": "_G8Jgxho3BmK",
        "outputId": "3c41bff0-49c7-40fe-eb1f-2ee1e9a0a53d"
      },
      "outputs": [
        {
          "output_type": "stream",
          "name": "stdout",
          "text": [
            "Guess a letter: 34\n",
            "Invalid letter. Please, enter a single alphabetical character.\n",
            "Guess a letter: 33\n",
            "Invalid letter. Please, enter a single alphabetical character.\n",
            "Guess a letter: 2\n",
            "Invalid letter. Please, enter a single alphabetical character.\n",
            "Guess a letter: 1\n",
            "Invalid letter. Please, enter a single alphabetical character.\n",
            "Guess a letter: der\n",
            "Invalid letter. Please, enter a single alphabetical character.\n",
            "Guess a letter: r\n",
            "You guessed: r\n"
          ]
        }
      ],
      "source": [
        "while True:\n",
        "    # Step 2: Ask the user to guess a letter and assign it to a variable called guess.\n",
        "    guess = input(\"Guess a letter: \")\n",
        "\n",
        "    # Step 3: Check if the guess is a single alphabetical character.\n",
        "    if guess.isalpha() and len(guess) == 1:\n",
        "        # Step 4: If the guess is valid, break out of the loop.\n",
        "        print(f\"You guessed: {guess}\")\n",
        "        break\n",
        "    else:\n",
        "        # Step 5: If the guess is invalid, print an error message.\n",
        "        print(\"Invalid letter. Please, enter a single alphabetical character.\")"
      ]
    }
  ]
}